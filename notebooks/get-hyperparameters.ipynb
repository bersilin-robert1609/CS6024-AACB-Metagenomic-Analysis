{
 "cells": [
  {
   "cell_type": "code",
   "execution_count": 10,
   "metadata": {},
   "outputs": [],
   "source": [
    "import os\n",
    "import json\n",
    "\n",
    "FILE_NAME = \"../logs/results-mlp-pca-binary.json\"\n",
    "\n",
    "# check if file exists\n",
    "if not os.path.exists(FILE_NAME):\n",
    "    print(\"File not found\")"
   ]
  },
  {
   "cell_type": "code",
   "execution_count": 11,
   "metadata": {},
   "outputs": [],
   "source": [
    "data = None\n",
    "with open(FILE_NAME, \"r\") as file:\n",
    "    data = json.load(file)"
   ]
  },
  {
   "cell_type": "code",
   "execution_count": 12,
   "metadata": {},
   "outputs": [],
   "source": [
    "hyperparameters = {\n",
    "    \"layers\": [],\n",
    "    \"batch_size\": [],\n",
    "    \"learning_rate\": [],\n",
    "    \"epochs\": [],\n",
    "}"
   ]
  },
  {
   "cell_type": "code",
   "execution_count": 13,
   "metadata": {},
   "outputs": [],
   "source": [
    "for result in data:\n",
    "    # if not in hyperparameters, add it for the above keys\n",
    "\n",
    "    if result[\"params\"][\"layers\"] not in hyperparameters[\"layers\"]:\n",
    "        hyperparameters[\"layers\"].append(result[\"params\"][\"layers\"])\n",
    "    if result[\"params\"][\"batch_size\"] not in hyperparameters[\"batch_size\"]:\n",
    "        hyperparameters[\"batch_size\"].append(result[\"params\"][\"batch_size\"])\n",
    "    if result[\"params\"][\"learning_rate\"] not in hyperparameters[\"learning_rate\"]:\n",
    "        hyperparameters[\"learning_rate\"].append(result[\"params\"][\"learning_rate\"])\n",
    "    if result[\"params\"][\"epochs\"] not in hyperparameters[\"epochs\"]:\n",
    "        hyperparameters[\"epochs\"].append(result[\"params\"][\"epochs\"])"
   ]
  },
  {
   "cell_type": "code",
   "execution_count": 14,
   "metadata": {},
   "outputs": [
    {
     "name": "stdout",
     "output_type": "stream",
     "text": [
      "510\n"
     ]
    }
   ],
   "source": [
    "print(len(data))"
   ]
  },
  {
   "cell_type": "code",
   "execution_count": 15,
   "metadata": {},
   "outputs": [
    {
     "name": "stdout",
     "output_type": "stream",
     "text": [
      "{'layers': [[1024, 512, 256, 128], [512, 256, 128, 64, 32], [256, 128, 64, 32], [128, 64, 32], [64, 64, 32], [32, 32], [1024, 512, 256, 128, 64, 64, 32, 32], [1024, 1024, 512, 512, 128, 64, 32]], 'batch_size': [8, 16, 32, 64, 128], 'learning_rate': [0.0001, 0.0005, 1e-05, 5e-05, 1e-06], 'epochs': [100, 200, 300, 400, 500]}\n"
     ]
    }
   ],
   "source": [
    "print(hyperparameters)"
   ]
  },
  {
   "cell_type": "code",
   "execution_count": null,
   "metadata": {},
   "outputs": [],
   "source": [
    "hyperparameters = {\n",
    "    \"layers\": [\n",
    "        [1024, 512, 256, 128],\n",
    "        [512, 256, 128, 64, 32],\n",
    "        [256, 128, 64, 32],\n",
    "        [128, 64, 32],\n",
    "        [64, 64, 32],\n",
    "        [32, 32],\n",
    "        [1024, 512, 256, 128, 64, 64, 32, 32],\n",
    "        [1024, 1024, 512, 512, 128, 64, 32],\n",
    "    ],\n",
    "    \"batch_size\": [8, 16, 32, 64, 128],\n",
    "    \"learning_rate\": [0.0001, 0.0005, 1e-05, 5e-05, 1e-06],\n",
    "    \"epochs\": [100, 200, 300, 400, 500],\n",
    "}"
   ]
  }
 ],
 "metadata": {
  "kernelspec": {
   "display_name": "Python 3",
   "language": "python",
   "name": "python3"
  },
  "language_info": {
   "codemirror_mode": {
    "name": "ipython",
    "version": 3
   },
   "file_extension": ".py",
   "mimetype": "text/x-python",
   "name": "python",
   "nbconvert_exporter": "python",
   "pygments_lexer": "ipython3",
   "version": "3.12.2"
  }
 },
 "nbformat": 4,
 "nbformat_minor": 2
}
