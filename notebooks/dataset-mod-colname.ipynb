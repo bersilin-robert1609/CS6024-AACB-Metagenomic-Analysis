{
 "cells": [
  {
   "cell_type": "code",
   "execution_count": 14,
   "metadata": {},
   "outputs": [
    {
     "name": "stdout",
     "output_type": "stream",
     "text": [
      "Using device: cuda\n"
     ]
    }
   ],
   "source": [
    "import os\n",
    "import pandas as pd\n",
    "\n",
    "import numpy as np\n",
    "import matplotlib.pyplot as plt\n",
    "\n",
    "import torch\n",
    "import torch.nn as nn\n",
    "\n",
    "device = torch.device('cuda' if torch.cuda.is_available() else 'cpu')\n",
    "print('Using device:', device)"
   ]
  },
  {
   "cell_type": "code",
   "execution_count": 15,
   "metadata": {},
   "outputs": [],
   "source": [
    "DATA_FOLDER = \"../data\"\n",
    "ABUNDANCE_FILE = \"abundance_with_unique.csv\"\n",
    "ABUNDANCE_START = 212\n",
    "\n",
    "abundance_data = pd.read_csv(os.path.join(DATA_FOLDER, ABUNDANCE_FILE), low_memory=False)"
   ]
  },
  {
   "cell_type": "code",
   "execution_count": 16,
   "metadata": {},
   "outputs": [
    {
     "data": {
      "text/plain": [
       "3302"
      ]
     },
     "execution_count": 16,
     "metadata": {},
     "output_type": "execute_result"
    }
   ],
   "source": [
    "abundance = abundance_data.iloc[:, ABUNDANCE_START:]\n",
    "\n",
    "len(abundance.columns)"
   ]
  },
  {
   "cell_type": "code",
   "execution_count": 17,
   "metadata": {},
   "outputs": [
    {
     "data": {
      "text/plain": [
       "3302"
      ]
     },
     "execution_count": 17,
     "metadata": {},
     "output_type": "execute_result"
    }
   ],
   "source": [
    "unique_columns = set()\n",
    "\n",
    "for column in abundance.columns:\n",
    "    names = column.split('|')\n",
    "    for name in names:\n",
    "        unique_columns.add(name)\n",
    "    \n",
    "len(unique_columns)"
   ]
  },
  {
   "cell_type": "code",
   "execution_count": 18,
   "metadata": {},
   "outputs": [],
   "source": [
    "metadata = abundance_data.iloc[:, :ABUNDANCE_START]\n",
    "\n",
    "new_abundance = pd.DataFrame(index=abundance.index, columns=list(unique_columns))\n",
    "\n",
    "for column in abundance.columns:\n",
    "    names = column.split('|')\n",
    "    \n",
    "    if(len(names) == 1):\n",
    "        assert(names[0] == column)\n",
    "        new_abundance[names[0]] = abundance[column]\n",
    "    else:\n",
    "        new_name = '|'.join(names[:-1])\n",
    "        assert(new_name + '|' + names[-1] == column)\n",
    "        new_abundance[names[-1]] = abundance[column] - abundance[new_name]"
   ]
  },
  {
   "cell_type": "code",
   "execution_count": 24,
   "metadata": {},
   "outputs": [],
   "source": [
    "new_abundance_data = pd.concat([metadata, new_abundance], axis=1)"
   ]
  },
  {
   "cell_type": "code",
   "execution_count": 25,
   "metadata": {},
   "outputs": [
    {
     "name": "stdout",
     "output_type": "stream",
     "text": [
      "Index(['t__GCF_000403355', 'g__Kingella',\n",
      "       't__Mycobacterium_smegmatis_unclassified', 's__Prevotella_pallens',\n",
      "       'o__Coriobacteriales', 'f__Beijerinckiaceae',\n",
      "       't__Corynebacterium_urealyticum_unclassified',\n",
      "       's__Corynebacterium_pseudodiphtheriticum',\n",
      "       's__Bacteroides_thetaiotaomicron', 's__Microcoleus_vaginatus',\n",
      "       ...\n",
      "       'f__Listeriaceae', 's__Catonella_morbi',\n",
      "       'g__Dermatophilaceae_unclassified', 't__GCF_000307225',\n",
      "       's__Lactobacillus_buchneri', 's__Exiguobacterium_pavilionensis',\n",
      "       'g__Arcobacter', 'g__Polaromonas', 's__Lactobacillus_jensenii',\n",
      "       's__Corynebacterium_durum'],\n",
      "      dtype='object', length=3302)\n"
     ]
    }
   ],
   "source": [
    "print(new_abundance.columns)"
   ]
  },
  {
   "cell_type": "code",
   "execution_count": null,
   "metadata": {},
   "outputs": [],
   "source": []
  }
 ],
 "metadata": {
  "kernelspec": {
   "display_name": "Python 3",
   "language": "python",
   "name": "python3"
  },
  "language_info": {
   "codemirror_mode": {
    "name": "ipython",
    "version": 3
   },
   "file_extension": ".py",
   "mimetype": "text/x-python",
   "name": "python",
   "nbconvert_exporter": "python",
   "pygments_lexer": "ipython3",
   "version": "3.12.2"
  }
 },
 "nbformat": 4,
 "nbformat_minor": 2
}
