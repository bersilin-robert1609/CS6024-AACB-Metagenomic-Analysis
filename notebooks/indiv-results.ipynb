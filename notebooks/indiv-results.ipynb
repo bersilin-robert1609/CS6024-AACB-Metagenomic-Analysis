{
 "cells": [
  {
   "cell_type": "code",
   "execution_count": 1,
   "metadata": {},
   "outputs": [],
   "source": [
    "import json\n",
    "import os\n",
    "\n",
    "FILE = \"../logs/results-individual.json\"\n",
    "\n",
    "results = []\n",
    "if os.path.exists(FILE):\n",
    "    with open(FILE, \"r\") as f:\n",
    "        results = json.load(f)"
   ]
  },
  {
   "cell_type": "code",
   "execution_count": 2,
   "metadata": {},
   "outputs": [
    {
     "data": {
      "text/plain": [
       "1980"
      ]
     },
     "execution_count": 2,
     "metadata": {},
     "output_type": "execute_result"
    }
   ],
   "source": [
    "len(results)"
   ]
  },
  {
   "cell_type": "code",
   "execution_count": 3,
   "metadata": {},
   "outputs": [],
   "source": [
    "disease_info = {\n",
    "    'Zeller_fecal_colorectal_cancer' : {'positive': ['cancer', 'small_adenoma', 'large_adenoma'], 'negative': ['n']},\n",
    "    'WT2D': {'positive': ['t2d', 'impaired_glucose_tolerance'], 'negative': ['n']},\n",
    "    'VerticalTransmissionPilot': {'positive': [], 'negative': ['nd']},\n",
    "    't2dmeta_short': {'positive': ['t2d'], 'negative': ['n']},\n",
    "    't2dmeta_long': {'positive': ['t2d'], 'negative': ['n', '-']},\n",
    "    'Tito_subsistence_gut': {'positive': ['overweight', 'obese', 'underweight'], 'negative': ['n']},\n",
    "    'Segre_Human_Skin': {'positive': [], 'negative': ['n']},\n",
    "    'Quin_gut_liver_cirrhosis' : {'positive': ['cirrhosis'], 'negative': ['n']},\n",
    "    'Psoriasis_2014': {'positive': ['y'], 'negative': ['n']},\n",
    "    'Neilsen_genome_assembly': {'positive': ['ibd_ulcerative_colitis', 'ibd_crohn_disease'], 'negative': ['n', 'n_relative']},\n",
    "    'metahit': {'positive': ['ibd_ulcerative_colitis', 'ibd_crohn_disease'], 'negative': ['n']},\n",
    "    'Loman2013_EcoliOutbreak_DNA_MiSeq': {'positive': ['stec2-positive'], 'negative': []},\n",
    "    'Loman2013_EcoliOutbreak_DNA_HiSeq': {'positive': ['stec2-positive'], 'negative': ['-']},\n",
    "    'hmpii': {'positive': [], 'negative': ['n']},\n",
    "    'hmp': {'positive': [], 'negative': ['n']},\n",
    "    'Chatelier_gut_obesity': {'positive': ['obesity'], 'negative': ['n', 'leaness']},\n",
    "    'Candela_Africa': {'positive': [], 'negative': ['n']},\n",
    "}"
   ]
  },
  {
   "cell_type": "code",
   "execution_count": 4,
   "metadata": {},
   "outputs": [],
   "source": [
    "best_results = {}\n",
    "\n",
    "for result in results:\n",
    "    dataset_name = result['disease']\n",
    "    if(dataset_name not in best_results):\n",
    "        best_results[dataset_name] = result\n",
    "    else:\n",
    "        if(result['test_accuracy'] > best_results[dataset_name]['test_accuracy']):\n",
    "            best_results[dataset_name] = result    "
   ]
  },
  {
   "cell_type": "code",
   "execution_count": 7,
   "metadata": {},
   "outputs": [],
   "source": [
    "with open(\"../logs/best_results-indiv.json\", \"w\") as f:\n",
    "    json.dump(best_results, f)"
   ]
  },
  {
   "cell_type": "code",
   "execution_count": null,
   "metadata": {},
   "outputs": [],
   "source": []
  }
 ],
 "metadata": {
  "kernelspec": {
   "display_name": "Python 3",
   "language": "python",
   "name": "python3"
  },
  "language_info": {
   "codemirror_mode": {
    "name": "ipython",
    "version": 3
   },
   "file_extension": ".py",
   "mimetype": "text/x-python",
   "name": "python",
   "nbconvert_exporter": "python",
   "pygments_lexer": "ipython3",
   "version": "3.12.2"
  }
 },
 "nbformat": 4,
 "nbformat_minor": 2
}
