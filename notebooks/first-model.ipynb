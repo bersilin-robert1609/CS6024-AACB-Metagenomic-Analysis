{
 "cells": [
  {
   "cell_type": "code",
   "execution_count": 151,
   "metadata": {},
   "outputs": [
    {
     "name": "stdout",
     "output_type": "stream",
     "text": [
      "cuda\n"
     ]
    }
   ],
   "source": [
    "import os\n",
    "import pandas as pd\n",
    "import numpy as np\n",
    "import torch\n",
    "import torch.nn as nn\n",
    "import torch.optim as optim\n",
    "from torch.utils.data import DataLoader, Dataset\n",
    "\n",
    "device = torch.device('cuda' if torch.cuda.is_available() else 'cpu')\n",
    "print(device)"
   ]
  },
  {
   "cell_type": "code",
   "execution_count": 152,
   "metadata": {},
   "outputs": [],
   "source": [
    "DATA_FOLDER = \"../data\"\n",
    "ABUNDANCE_FILE = \"abundance_with_unique.csv\"\n",
    "ABUNDANCE_START = 213\n",
    "\n",
    "LAYERS = [1024, 512, 256, 128, 64]\n",
    "BATCH_SIZE = 32"
   ]
  },
  {
   "cell_type": "code",
   "execution_count": 153,
   "metadata": {},
   "outputs": [],
   "source": [
    "abundance_data = pd.read_csv(os.path.join(DATA_FOLDER, ABUNDANCE_FILE), low_memory=False)\n",
    "\n",
    "metadata = abundance_data.iloc[:, :212]\n",
    "abundance = abundance_data.iloc[:, 212:]"
   ]
  },
  {
   "cell_type": "code",
   "execution_count": 154,
   "metadata": {},
   "outputs": [
    {
     "data": {
      "text/plain": [
       "disease_new\n",
       "healthy                       2692\n",
       "t2d                            223\n",
       "obesity                        164\n",
       "ibd_ulcerative_colitis         148\n",
       "cirrhosis                      118\n",
       "stec2-positive                  52\n",
       "impaired_glucose_tolerance      49\n",
       "cancer                          48\n",
       "psoriasis                       36\n",
       "small_adenoma                   26\n",
       "ibd_crohn_disease               25\n",
       "large_adenoma                   13\n",
       "overweight                      10\n",
       "obese                            5\n",
       "underweight                      1\n",
       "Name: count, dtype: int64"
      ]
     },
     "execution_count": 154,
     "metadata": {},
     "output_type": "execute_result"
    }
   ],
   "source": [
    "diseases_list = list(metadata['disease'].unique())\n",
    "\n",
    "# Healthy = ['n', 'nd', ' -', 'leaness', 'n_relative', '-'] : Change this in the list and dict to 'healthy'\n",
    "diseases_list_new = ['healthy' if x in ['n', 'nd', ' -', 'leaness', 'n_relative', '-'] else x for x in diseases_list]\n",
    "\n",
    "# Change 'y' to psoriasis\n",
    "diseases_list_new = ['psoriasis' if x == 'y' else x for x in diseases_list_new]\n",
    "\n",
    "diseases_list_unique = list(set(diseases_list_new))\n",
    "\n",
    "# Create new column in metadata with the new disease names\n",
    "metadata['disease_new'] = metadata['disease'].apply(lambda x: 'healthy' if x in ['n', 'nd', ' -', 'leaness', 'n_relative', '-'] else 'psoriasis' if x == 'y' else x)\n",
    "\n",
    "# put disease_new column in the second column after UniqueID\n",
    "metadata = metadata[['UniqueID', 'disease_new'] + [col for col in metadata.columns if col not in ['UniqueID', 'disease_new']]]\n",
    "\n",
    "new_abundance_data = pd.concat([metadata, abundance], axis=1)\n",
    "\n",
    "del metadata, abundance\n",
    "\n",
    "# print frequency of each disease\n",
    "new_abundance_data['disease_new'].value_counts()"
   ]
  },
  {
   "cell_type": "code",
   "execution_count": 155,
   "metadata": {},
   "outputs": [
    {
     "data": {
      "text/plain": [
       "['healthy',\n",
       " 'obesity',\n",
       " 'stec2-positive',\n",
       " 'ibd_ulcerative_colitis',\n",
       " 'ibd_crohn_disease',\n",
       " 'psoriasis',\n",
       " 'cirrhosis',\n",
       " 'obese',\n",
       " 'overweight',\n",
       " 'underweight',\n",
       " 't2d',\n",
       " 'impaired_glucose_tolerance',\n",
       " 'cancer',\n",
       " 'small_adenoma',\n",
       " 'large_adenoma']"
      ]
     },
     "execution_count": 155,
     "metadata": {},
     "output_type": "execute_result"
    }
   ],
   "source": [
    "classes = list(new_abundance_data['disease_new'].unique())\n",
    "\n",
    "classes"
   ]
  },
  {
   "cell_type": "code",
   "execution_count": 156,
   "metadata": {},
   "outputs": [],
   "source": [
    "# Multiclass classification\n",
    "\n",
    "class MicrobiomeDataset(Dataset):\n",
    "    def __init__(self, data, classes, device):\n",
    "        self.data = data\n",
    "        self.classes = classes\n",
    "        self.device = device\n",
    "\n",
    "    def __len__(self):\n",
    "        return len(self.data)\n",
    "    \n",
    "    def __getitem__(self, idx):\n",
    "        sample = self.data.iloc[idx, :]\n",
    "        sample_values = sample[ABUNDANCE_START:].values.astype(np.float32)\n",
    "        sample_values = torch.from_numpy(sample_values).to(self.device)\n",
    "        label = self.classes.index(sample['disease_new'])\n",
    "        label = torch.tensor(label).to(self.device)\n",
    "        return sample_values, label"
   ]
  },
  {
   "cell_type": "code",
   "execution_count": 157,
   "metadata": {},
   "outputs": [
    {
     "name": "stdout",
     "output_type": "stream",
     "text": [
      "The number of samples in the training dataset is:  2888\n",
      "The number of samples in the test dataset is:  722\n"
     ]
    }
   ],
   "source": [
    "# Dataloader\n",
    "\n",
    "train_data = new_abundance_data.sample(frac=0.8, random_state=42)\n",
    "test_data = new_abundance_data.drop(train_data.index)\n",
    "\n",
    "train_dataset = MicrobiomeDataset(train_data, classes, device)\n",
    "test_dataset = MicrobiomeDataset(test_data, classes, device)\n",
    "\n",
    "train_loader = DataLoader(train_dataset, batch_size=BATCH_SIZE, shuffle=True)\n",
    "test_loader = DataLoader(test_dataset, batch_size=BATCH_SIZE, shuffle=False)\n",
    "\n",
    "print(\"The number of samples in the training dataset is: \", len(train_data))\n",
    "print(\"The number of samples in the test dataset is: \", len(test_data))"
   ]
  },
  {
   "cell_type": "code",
   "execution_count": 158,
   "metadata": {},
   "outputs": [],
   "source": [
    "# Model\n",
    "\n",
    "class MicrobiomeClassifier(nn.Module):\n",
    "    def __init__(self, input_size, output_size, layers):\n",
    "        super(MicrobiomeClassifier, self).__init__()\n",
    "        \n",
    "        self.sequence = nn.Sequential()\n",
    "        \n",
    "        for i, layer in enumerate(layers):\n",
    "            if i == 0:\n",
    "                self.sequence.add_module(f'linear_{i}', nn.Linear(input_size, layer))\n",
    "                self.sequence.add_module(f'relu_{i}', nn.ReLU())\n",
    "            else:\n",
    "                self.sequence.add_module(f'linear_{i}', nn.Linear(LAYERS[i-1], layer))\n",
    "                self.sequence.add_module(f'relu_{i}', nn.ReLU())\n",
    "                \n",
    "        self.sequence.add_module('output', nn.Linear(layers[-1], output_size))\n",
    "        self.sequence.add_module('softmax', nn.Softmax(dim=1))    \n",
    "                \n",
    "    def forward(self, x):\n",
    "        return self.sequence(x)\n",
    "    \n",
    "    def print_model(self):\n",
    "        print(self.sequence)"
   ]
  },
  {
   "cell_type": "code",
   "execution_count": 159,
   "metadata": {},
   "outputs": [],
   "source": [
    "# Training\n",
    "\n",
    "def train(model, data_loader, criterion, optimizer):\n",
    "    \"\"\"\n",
    "    Generic training function\n",
    "    \"\"\"\n",
    "    model.train() # Set model to training mode\n",
    "    running_loss = 0.0\n",
    "    for _, data in enumerate(data_loader):\n",
    "        inputs, labels = data\n",
    "        \n",
    "        optimizer.zero_grad() # Zero the gradients\n",
    "        \n",
    "        outputs = model(inputs) # Forward pass\n",
    "        loss = criterion(outputs, labels) # Compute loss\n",
    "        loss.backward() # Backward pass\n",
    "        optimizer.step() # Update weights\n",
    "        \n",
    "        running_loss += loss.item()\n",
    "    return running_loss / len(data_loader)\n",
    "\n",
    "def evaluate(model, data_loader, criterion):\n",
    "    \"\"\"\n",
    "    Generic evaluation function    \n",
    "    \"\"\"\n",
    "    model.eval() # Set model to evaluation mode\n",
    "    running_loss = 0.0\n",
    "    correct = 0\n",
    "    total = 0\n",
    "    true_labels = []\n",
    "    predicted_labels = []\n",
    "    with torch.no_grad():\n",
    "        for _, data in enumerate(data_loader):\n",
    "            inputs, labels = data\n",
    "            \n",
    "            outputs = model(inputs)\n",
    "            loss = criterion(outputs, labels)\n",
    "            \n",
    "            running_loss += loss.item()\n",
    "            _, predicted = torch.max(outputs, 1)\n",
    "            \n",
    "            true_labels.extend(labels.cpu().numpy())\n",
    "            predicted_labels.extend(predicted.cpu().numpy())\n",
    "            \n",
    "            correct += (predicted == labels).sum().item()\n",
    "            total += labels.size(0)\n",
    "    return running_loss / len(data_loader), correct / total, true_labels, predicted_labels"
   ]
  },
  {
   "cell_type": "code",
   "execution_count": 160,
   "metadata": {},
   "outputs": [
    {
     "name": "stdout",
     "output_type": "stream",
     "text": [
      "Sequential(\n",
      "  (linear_0): Linear(in_features=3302, out_features=1024, bias=True)\n",
      "  (relu_0): ReLU()\n",
      "  (linear_1): Linear(in_features=1024, out_features=512, bias=True)\n",
      "  (relu_1): ReLU()\n",
      "  (linear_2): Linear(in_features=512, out_features=256, bias=True)\n",
      "  (relu_2): ReLU()\n",
      "  (linear_3): Linear(in_features=256, out_features=128, bias=True)\n",
      "  (relu_3): ReLU()\n",
      "  (linear_4): Linear(in_features=128, out_features=64, bias=True)\n",
      "  (relu_4): ReLU()\n",
      "  (output): Linear(in_features=64, out_features=15, bias=True)\n",
      "  (softmax): Softmax(dim=1)\n",
      ")\n"
     ]
    }
   ],
   "source": [
    "model = MicrobiomeClassifier(input_size=train_data.shape[1] - ABUNDANCE_START, output_size=len(classes), layers=LAYERS).to(device)\n",
    "model.print_model()\n",
    "criterion = nn.CrossEntropyLoss()\n",
    "optimizer = optim.Adam(model.parameters(), lr=0.001)"
   ]
  },
  {
   "cell_type": "code",
   "execution_count": 161,
   "metadata": {},
   "outputs": [
    {
     "name": "stdout",
     "output_type": "stream",
     "text": [
      "Epoch 1/10, Train Loss: 2.095568673951285, Train Accuracy: 0.7479224376731302, Test Accuracy: 0.7368421052631579\n",
      "Epoch 2/10, Train Loss: 2.0706234017571252, Train Accuracy: 0.7479224376731302, Test Accuracy: 0.7368421052631579\n",
      "Epoch 3/10, Train Loss: 2.0685629582667087, Train Accuracy: 0.7479224376731302, Test Accuracy: 0.7368421052631579\n",
      "Epoch 4/10, Train Loss: 2.0716536045074463, Train Accuracy: 0.7479224376731302, Test Accuracy: 0.7368421052631579\n",
      "Epoch 5/10, Train Loss: 2.0685629674366544, Train Accuracy: 0.7479224376731302, Test Accuracy: 0.7368421052631579\n",
      "Epoch 6/10, Train Loss: 2.0695931780469285, Train Accuracy: 0.7479224376731302, Test Accuracy: 0.7368421052631579\n",
      "Epoch 7/10, Train Loss: 2.0685629425468024, Train Accuracy: 0.7479224376731302, Test Accuracy: 0.7368421052631579\n",
      "Epoch 8/10, Train Loss: 2.0685629543367323, Train Accuracy: 0.7479224376731302, Test Accuracy: 0.7368421052631579\n",
      "Epoch 9/10, Train Loss: 2.0695931754269443, Train Accuracy: 0.7479224376731302, Test Accuracy: 0.7368421052631579\n",
      "Epoch 10/10, Train Loss: 2.0685629687466465, Train Accuracy: 0.7479224376731302, Test Accuracy: 0.7368421052631579\n"
     ]
    }
   ],
   "source": [
    "EPOCHS = 10\n",
    "\n",
    "for epoch in range(EPOCHS):\n",
    "    train_loss = train(model, train_loader, criterion, optimizer)\n",
    "    _, train_accuracy, true, pred = evaluate(model, train_loader, criterion)\n",
    "    test_loss, test_accuracy, true_test, pred_test = evaluate(model, test_loader, criterion)\n",
    "    print(f'Epoch {epoch+1}/{EPOCHS}, Train Loss: {train_loss}, Train Accuracy: {train_accuracy}, Test Accuracy: {test_accuracy}')"
   ]
  },
  {
   "cell_type": "code",
   "execution_count": 170,
   "metadata": {},
   "outputs": [
    {
     "name": "stdout",
     "output_type": "stream",
     "text": [
      "(15, 15)\n"
     ]
    }
   ],
   "source": [
    "# Confusion matrix\n",
    "\n",
    "from sklearn.metrics import confusion_matrix\n",
    "\n",
    "conf_matrix = confusion_matrix(true, pred, labels=np.arange(len(classes)))\n",
    "\n",
    "print(conf_matrix.shape)\n",
    "\n",
    "# write confusion matrix to file\n",
    "\n",
    "conf_matrix_df = pd.DataFrame(conf_matrix, index=classes, columns=classes)\n",
    "conf_matrix_df.to_csv(os.path.join(DATA_FOLDER, \"confusion_matrix.csv\"))"
   ]
  },
  {
   "cell_type": "code",
   "execution_count": null,
   "metadata": {},
   "outputs": [],
   "source": []
  }
 ],
 "metadata": {
  "kernelspec": {
   "display_name": "Python 3",
   "language": "python",
   "name": "python3"
  },
  "language_info": {
   "codemirror_mode": {
    "name": "ipython",
    "version": 3
   },
   "file_extension": ".py",
   "mimetype": "text/x-python",
   "name": "python",
   "nbconvert_exporter": "python",
   "pygments_lexer": "ipython3",
   "version": "3.12.2"
  }
 },
 "nbformat": 4,
 "nbformat_minor": 2
}
