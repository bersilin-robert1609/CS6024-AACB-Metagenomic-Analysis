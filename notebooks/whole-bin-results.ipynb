{
 "cells": [
  {
   "cell_type": "code",
   "execution_count": 10,
   "metadata": {},
   "outputs": [],
   "source": [
    "import json\n",
    "import os\n",
    "\n",
    "FILE = \"../logs/results-mlp-pca-class.json\"\n",
    "\n",
    "if os.path.exists(FILE):\n",
    "    with open(FILE, \"r\") as f:\n",
    "        data = json.load(f)"
   ]
  },
  {
   "cell_type": "code",
   "execution_count": 11,
   "metadata": {},
   "outputs": [
    {
     "data": {
      "text/plain": [
       "180"
      ]
     },
     "execution_count": 11,
     "metadata": {},
     "output_type": "execute_result"
    }
   ],
   "source": [
    "len(data)"
   ]
  },
  {
   "cell_type": "code",
   "execution_count": 12,
   "metadata": {},
   "outputs": [],
   "source": [
    "best_result = None\n",
    "\n",
    "for result in data:\n",
    "    if(best_result is None):\n",
    "        best_result = result\n",
    "    else:\n",
    "        if result[\"test_accuracy\"] > best_result[\"test_accuracy\"]:\n",
    "            best_result = result"
   ]
  },
  {
   "cell_type": "code",
   "execution_count": 13,
   "metadata": {},
   "outputs": [
    {
     "data": {
      "text/plain": [
       "{'params': {'batch_size': 32,\n",
       "  'lr': 5e-05,\n",
       "  'layers': [1024, 512, 256, 128],\n",
       "  'epochs': 500},\n",
       " 'train_loss': 1.82818330513252,\n",
       " 'train_accuracy': 0.9882271468144044,\n",
       " 'test_loss': 2.0351360103358394,\n",
       " 'test_accuracy': 0.7922437673130194}"
      ]
     },
     "execution_count": 13,
     "metadata": {},
     "output_type": "execute_result"
    }
   ],
   "source": [
    "best_result"
   ]
  },
  {
   "cell_type": "code",
   "execution_count": 14,
   "metadata": {},
   "outputs": [],
   "source": [
    "with open(\"../logs/best-mlp-pca-class.json\", \"w\") as f:\n",
    "    json.dump(best_result, f)"
   ]
  },
  {
   "cell_type": "code",
   "execution_count": null,
   "metadata": {},
   "outputs": [],
   "source": []
  }
 ],
 "metadata": {
  "kernelspec": {
   "display_name": "Python 3",
   "language": "python",
   "name": "python3"
  },
  "language_info": {
   "codemirror_mode": {
    "name": "ipython",
    "version": 3
   },
   "file_extension": ".py",
   "mimetype": "text/x-python",
   "name": "python",
   "nbconvert_exporter": "python",
   "pygments_lexer": "ipython3",
   "version": "3.12.2"
  }
 },
 "nbformat": 4,
 "nbformat_minor": 2
}
