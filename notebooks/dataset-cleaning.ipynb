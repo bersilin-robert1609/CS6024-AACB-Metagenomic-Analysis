{
 "cells": [
  {
   "cell_type": "markdown",
   "metadata": {},
   "source": [
    "### Data cleaning"
   ]
  },
  {
   "cell_type": "code",
   "execution_count": 14,
   "metadata": {},
   "outputs": [],
   "source": [
    "import numpy as np\n",
    "import matplotlib.pyplot as plt\n",
    "import pandas as pd\n",
    "import os\n",
    "import bz2"
   ]
  },
  {
   "cell_type": "code",
   "execution_count": 15,
   "metadata": {},
   "outputs": [],
   "source": [
    "INIT_INPUT_DIR = '../metaml/data/'\n",
    "DATA_ORIGINAL_DIR = '../data-original/'\n",
    "DATA_DIR = '../data/'\n",
    "LOG_DIR = '../logs/'\n",
    "\n",
    "ABUNDANCE_FILE = 'abundance.txt.bz2'"
   ]
  },
  {
   "cell_type": "code",
   "execution_count": 16,
   "metadata": {},
   "outputs": [],
   "source": [
    "def convert_bz2_txt(file_name):\n",
    "    \"\"\"\n",
    "    Opens bz2 file, reads the zipped data and writes it into the data directory\n",
    "    Returns - the path to the unzipped file\n",
    "    \"\"\"\n",
    "    input_file_path = os.path.join(INIT_INPUT_DIR, file_name)\n",
    "\n",
    "    with bz2.BZ2File(input_file_path, 'rb') as f:\n",
    "        data = f.read()\n",
    "    \n",
    "    output_file_path = os.path.join(DATA_ORIGINAL_DIR, file_name[:-4])\n",
    "\n",
    "    with open(output_file_path, 'wb') as f:\n",
    "        f.write(data)\n",
    "\n",
    "    return output_file_path"
   ]
  },
  {
   "cell_type": "code",
   "execution_count": 18,
   "metadata": {},
   "outputs": [
    {
     "name": "stdout",
     "output_type": "stream",
     "text": [
      "File already exists, skipping conversion...\n"
     ]
    }
   ],
   "source": [
    "output_file_path = None\n",
    "\n",
    "if(os.path.exists(os.path.join(DATA_ORIGINAL_DIR, ABUNDANCE_FILE[:-4]))):\n",
    "    print(\"File already exists, skipping conversion...\")\n",
    "    output_file_path = os.path.join(DATA_ORIGINAL_DIR, ABUNDANCE_FILE[:-4])\n",
    "else:\n",
    "    print(\"Converting file...\")\n",
    "    output_file_path = convert_bz2_txt(ABUNDANCE_FILE)"
   ]
  },
  {
   "cell_type": "code",
   "execution_count": 9,
   "metadata": {},
   "outputs": [],
   "source": [
    "def read_txt(file_name):\n",
    "    \"\"\"\n",
    "    Reads the data from the txt file\n",
    "    Returns - the data as a pandas dataframe\n",
    "    \"\"\"\n",
    "    input_file_path = os.path.join(DATA_ORIGINAL_DIR, file_name)\n",
    "    data = pd.read_csv(input_file_path, sep='\\t')\n",
    "    return data\n",
    "\n",
    "def store_csv(data, file_name):\n",
    "    \"\"\"\n",
    "    Stores the data into a csv file in the data directory\n",
    "    Returns - the path to the csv file\n",
    "    \"\"\"\n",
    "    output_file_path = os.path.join(DATA_DIR, file_name)\n",
    "    data.to_csv(output_file_path, index=False)\n",
    "    return output_file_path"
   ]
  },
  {
   "cell_type": "code",
   "execution_count": null,
   "metadata": {},
   "outputs": [],
   "source": [
    "data = read_txt"
   ]
  }
 ],
 "metadata": {
  "kernelspec": {
   "display_name": "Python 3",
   "language": "python",
   "name": "python3"
  },
  "language_info": {
   "codemirror_mode": {
    "name": "ipython",
    "version": 3
   },
   "file_extension": ".py",
   "mimetype": "text/x-python",
   "name": "python",
   "nbconvert_exporter": "python",
   "pygments_lexer": "ipython3",
   "version": "3.12.2"
  }
 },
 "nbformat": 4,
 "nbformat_minor": 2
}
