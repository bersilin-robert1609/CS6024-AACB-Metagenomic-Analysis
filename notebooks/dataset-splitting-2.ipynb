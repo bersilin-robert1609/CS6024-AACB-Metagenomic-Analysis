{
 "cells": [
  {
   "cell_type": "code",
   "execution_count": null,
   "metadata": {},
   "outputs": [],
   "source": [
    "import numpy as np\n",
    "import pandas as pd"
   ]
  },
  {
   "cell_type": "code",
   "execution_count": null,
   "metadata": {},
   "outputs": [],
   "source": [
    "INIT_INPUT_DIR = '../metaml/data/'\n",
    "DATA_ORIGINAL_DIR = '../data-original/'\n",
    "DATA_DIR = '../data/'\n",
    "LOG_DIR = '../logs/'\n",
    "\n",
    "ABUNDANCE_FILE = 'abundance.txt'"
   ]
  }
 ],
 "metadata": {
  "language_info": {
   "name": "python"
  }
 },
 "nbformat": 4,
 "nbformat_minor": 2
}
